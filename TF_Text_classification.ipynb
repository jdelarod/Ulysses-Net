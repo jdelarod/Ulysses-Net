{
  "nbformat": 4,
  "nbformat_minor": 0,
  "metadata": {
    "colab": {
      "name": "TF_Text_classification.ipynb",
      "version": "0.3.2",
      "provenance": [],
      "collapsed_sections": [],
      "include_colab_link": true
    },
    "kernelspec": {
      "name": "python3",
      "display_name": "Python 3"
    },
    "accelerator": "TPU"
  },
  "cells": [
    {
      "cell_type": "markdown",
      "metadata": {
        "id": "view-in-github",
        "colab_type": "text"
      },
      "source": [
        "<a href=\"https://colab.research.google.com/github/jdelarod/Ulysses-Net/blob/master/TF_Text_classification.ipynb\" target=\"_parent\"><img src=\"https://colab.research.google.com/assets/colab-badge.svg\" alt=\"Open In Colab\"/></a>"
      ]
    },
    {
      "metadata": {
        "id": "3Eh5UPx6POtY",
        "colab_type": "code",
        "outputId": "65d15cd5-4cba-4433-fcbe-7086c47e43ac",
        "colab": {
          "base_uri": "https://localhost:8080/",
          "height": 34
        }
      },
      "cell_type": "code",
      "source": [
        "import tensorflow as tf\n",
        "from tensorflow import keras\n",
        "\n",
        "import numpy as np\n",
        "\n",
        "print(tf.__version__)"
      ],
      "execution_count": 1,
      "outputs": [
        {
          "output_type": "stream",
          "text": [
            "1.12.0\n"
          ],
          "name": "stdout"
        }
      ]
    },
    {
      "metadata": {
        "id": "EfdMJGsHP34Z",
        "colab_type": "code",
        "colab": {
          "base_uri": "https://localhost:8080/",
          "height": 50
        },
        "outputId": "044b3025-5445-4021-a33f-f2fab20f77e7"
      },
      "cell_type": "code",
      "source": [
        "imdb = keras.datasets.imdb\n",
        "\n",
        "(train_data, train_labels), (test_data, test_labels) = imdb.load_data(num_words=10000)"
      ],
      "execution_count": 2,
      "outputs": [
        {
          "output_type": "stream",
          "text": [
            "Downloading data from https://storage.googleapis.com/tensorflow/tf-keras-datasets/imdb.npz\n",
            "17465344/17464789 [==============================] - 0s 0us/step\n"
          ],
          "name": "stdout"
        }
      ]
    },
    {
      "metadata": {
        "id": "dPUcyK5XP-Yo",
        "colab_type": "code",
        "outputId": "a91a9732-dbb7-43c3-89a0-701a5dbc5456",
        "colab": {
          "base_uri": "https://localhost:8080/",
          "height": 34
        }
      },
      "cell_type": "code",
      "source": [
        "print(\"Training entries: {}, labels: {}\".format(len(train_data), len(train_labels)))"
      ],
      "execution_count": 3,
      "outputs": [
        {
          "output_type": "stream",
          "text": [
            "Training entries: 25000, labels: 25000\n"
          ],
          "name": "stdout"
        }
      ]
    },
    {
      "metadata": {
        "id": "JTH-oDrRQEPh",
        "colab_type": "code",
        "outputId": "3cc53bd4-52a6-450c-b160-d2b8adb82b6f",
        "colab": {
          "base_uri": "https://localhost:8080/",
          "height": 54
        }
      },
      "cell_type": "code",
      "source": [
        "print(train_data[0])"
      ],
      "execution_count": 4,
      "outputs": [
        {
          "output_type": "stream",
          "text": [
            "[1, 14, 22, 16, 43, 530, 973, 1622, 1385, 65, 458, 4468, 66, 3941, 4, 173, 36, 256, 5, 25, 100, 43, 838, 112, 50, 670, 2, 9, 35, 480, 284, 5, 150, 4, 172, 112, 167, 2, 336, 385, 39, 4, 172, 4536, 1111, 17, 546, 38, 13, 447, 4, 192, 50, 16, 6, 147, 2025, 19, 14, 22, 4, 1920, 4613, 469, 4, 22, 71, 87, 12, 16, 43, 530, 38, 76, 15, 13, 1247, 4, 22, 17, 515, 17, 12, 16, 626, 18, 2, 5, 62, 386, 12, 8, 316, 8, 106, 5, 4, 2223, 5244, 16, 480, 66, 3785, 33, 4, 130, 12, 16, 38, 619, 5, 25, 124, 51, 36, 135, 48, 25, 1415, 33, 6, 22, 12, 215, 28, 77, 52, 5, 14, 407, 16, 82, 2, 8, 4, 107, 117, 5952, 15, 256, 4, 2, 7, 3766, 5, 723, 36, 71, 43, 530, 476, 26, 400, 317, 46, 7, 4, 2, 1029, 13, 104, 88, 4, 381, 15, 297, 98, 32, 2071, 56, 26, 141, 6, 194, 7486, 18, 4, 226, 22, 21, 134, 476, 26, 480, 5, 144, 30, 5535, 18, 51, 36, 28, 224, 92, 25, 104, 4, 226, 65, 16, 38, 1334, 88, 12, 16, 283, 5, 16, 4472, 113, 103, 32, 15, 16, 5345, 19, 178, 32]\n"
          ],
          "name": "stdout"
        }
      ]
    },
    {
      "metadata": {
        "id": "UGRgctw5QKTv",
        "colab_type": "code",
        "outputId": "a6b4eb8e-6fbd-4cf7-ee51-8207dfea73bf",
        "colab": {
          "base_uri": "https://localhost:8080/",
          "height": 34
        }
      },
      "cell_type": "code",
      "source": [
        "len(train_data[0]), len(train_data[1])"
      ],
      "execution_count": 6,
      "outputs": [
        {
          "output_type": "execute_result",
          "data": {
            "text/plain": [
              "(218, 189)"
            ]
          },
          "metadata": {
            "tags": []
          },
          "execution_count": 6
        }
      ]
    },
    {
      "metadata": {
        "id": "UefNBcBsQhDW",
        "colab_type": "code",
        "colab": {
          "base_uri": "https://localhost:8080/",
          "height": 50
        },
        "outputId": "75b3878c-127a-4e3d-edd7-80621ae2d76e"
      },
      "cell_type": "code",
      "source": [
        "# A dictionary mapping words to an integer index\n",
        "word_index = imdb.get_word_index()\n",
        "\n",
        "# The first indices are reserved\n",
        "word_index = {k:(v+3) for k,v in word_index.items()} \n",
        "word_index[\"<PAD>\"] = 0\n",
        "word_index[\"<START>\"] = 1\n",
        "word_index[\"<UNK>\"] = 2  # unknown\n",
        "word_index[\"<UNUSED>\"] = 3\n",
        "\n",
        "reverse_word_index = dict([(value, key) for (key, value) in word_index.items()])\n",
        "\n",
        "def decode_review(text):\n",
        "    return ' '.join([reverse_word_index.get(i, '?') for i in text])"
      ],
      "execution_count": 7,
      "outputs": [
        {
          "output_type": "stream",
          "text": [
            "Downloading data from https://storage.googleapis.com/tensorflow/tf-keras-datasets/imdb_word_index.json\n",
            "1646592/1641221 [==============================] - 0s 0us/step\n"
          ],
          "name": "stdout"
        }
      ]
    },
    {
      "metadata": {
        "id": "KBeSbqgmQv7V",
        "colab_type": "code",
        "outputId": "3530dac5-23ee-4baa-bc43-c2e9566c0873",
        "colab": {
          "base_uri": "https://localhost:8080/",
          "height": 54
        }
      },
      "cell_type": "code",
      "source": [
        "decode_review(train_data[0])"
      ],
      "execution_count": 8,
      "outputs": [
        {
          "output_type": "execute_result",
          "data": {
            "text/plain": [
              "\"<START> this film was just brilliant casting location scenery story direction everyone's really suited the part they played and you could just imagine being there robert <UNK> is an amazing actor and now the same being director <UNK> father came from the same scottish island as myself so i loved the fact there was a real connection with this film the witty remarks throughout the film were great it was just brilliant so much that i bought the film as soon as it was released for <UNK> and would recommend it to everyone to watch and the fly fishing was amazing really cried at the end it was so sad and you know what they say if you cry at a film it must have been good and this definitely was also <UNK> to the two little boy's that played the <UNK> of norman and paul they were just brilliant children are often left out of the <UNK> list i think because the stars that play them all grown up are such a big profile for the whole film but these children are amazing and should be praised for what they have done don't you think the whole story was so lovely because it was true and was someone's life after all that was shared with us all\""
            ]
          },
          "metadata": {
            "tags": []
          },
          "execution_count": 8
        }
      ]
    },
    {
      "metadata": {
        "id": "d4gzn7r-Wf7F",
        "colab_type": "code",
        "colab": {}
      },
      "cell_type": "code",
      "source": [
        "train_data = keras.preprocessing.sequence.pad_sequences(train_data,\n",
        "                                                        value=word_index[\"<PAD>\"],\n",
        "                                                        padding='post',\n",
        "                                                        maxlen=256)\n",
        "\n",
        "test_data = keras.preprocessing.sequence.pad_sequences(test_data,\n",
        "                                                       value=word_index[\"<PAD>\"],\n",
        "                                                       padding='post',\n",
        "                                                       maxlen=256)"
      ],
      "execution_count": 0,
      "outputs": []
    },
    {
      "metadata": {
        "id": "y7G3_ComWj8w",
        "colab_type": "code",
        "outputId": "951c4f28-a1aa-4f9e-df03-0be1c459a010",
        "colab": {
          "base_uri": "https://localhost:8080/",
          "height": 34
        }
      },
      "cell_type": "code",
      "source": [
        "len(train_data[0]), len(train_data[1])"
      ],
      "execution_count": 10,
      "outputs": [
        {
          "output_type": "execute_result",
          "data": {
            "text/plain": [
              "(256, 256)"
            ]
          },
          "metadata": {
            "tags": []
          },
          "execution_count": 10
        }
      ]
    },
    {
      "metadata": {
        "id": "XsMj6MuQW8AY",
        "colab_type": "code",
        "outputId": "82a87260-8c8c-411d-d96d-e329a0fa5478",
        "colab": {
          "base_uri": "https://localhost:8080/",
          "height": 336
        }
      },
      "cell_type": "code",
      "source": [
        "print(train_data[0])"
      ],
      "execution_count": 11,
      "outputs": [
        {
          "output_type": "stream",
          "text": [
            "[   1   14   22   16   43  530  973 1622 1385   65  458 4468   66 3941\n",
            "    4  173   36  256    5   25  100   43  838  112   50  670    2    9\n",
            "   35  480  284    5  150    4  172  112  167    2  336  385   39    4\n",
            "  172 4536 1111   17  546   38   13  447    4  192   50   16    6  147\n",
            " 2025   19   14   22    4 1920 4613  469    4   22   71   87   12   16\n",
            "   43  530   38   76   15   13 1247    4   22   17  515   17   12   16\n",
            "  626   18    2    5   62  386   12    8  316    8  106    5    4 2223\n",
            " 5244   16  480   66 3785   33    4  130   12   16   38  619    5   25\n",
            "  124   51   36  135   48   25 1415   33    6   22   12  215   28   77\n",
            "   52    5   14  407   16   82    2    8    4  107  117 5952   15  256\n",
            "    4    2    7 3766    5  723   36   71   43  530  476   26  400  317\n",
            "   46    7    4    2 1029   13  104   88    4  381   15  297   98   32\n",
            " 2071   56   26  141    6  194 7486   18    4  226   22   21  134  476\n",
            "   26  480    5  144   30 5535   18   51   36   28  224   92   25  104\n",
            "    4  226   65   16   38 1334   88   12   16  283    5   16 4472  113\n",
            "  103   32   15   16 5345   19  178   32    0    0    0    0    0    0\n",
            "    0    0    0    0    0    0    0    0    0    0    0    0    0    0\n",
            "    0    0    0    0    0    0    0    0    0    0    0    0    0    0\n",
            "    0    0    0    0]\n"
          ],
          "name": "stdout"
        }
      ]
    },
    {
      "metadata": {
        "id": "LGmm8ZrHXb4v",
        "colab_type": "code",
        "outputId": "22623d14-320c-4d8b-fd37-0034a52e1520",
        "colab": {
          "base_uri": "https://localhost:8080/",
          "height": 269
        }
      },
      "cell_type": "code",
      "source": [
        "# input shape is the vocabulary count used for the movie reviews (10,000 words)\n",
        "vocab_size = 10000\n",
        "\n",
        "model = keras.Sequential()\n",
        "model.add(keras.layers.Embedding(vocab_size, 16))\n",
        "model.add(keras.layers.GlobalAveragePooling1D())\n",
        "model.add(keras.layers.Dense(16, activation=tf.nn.relu))\n",
        "model.add(keras.layers.Dense(1, activation=tf.nn.sigmoid))\n",
        "\n",
        "model.summary()"
      ],
      "execution_count": 12,
      "outputs": [
        {
          "output_type": "stream",
          "text": [
            "_________________________________________________________________\n",
            "Layer (type)                 Output Shape              Param #   \n",
            "=================================================================\n",
            "embedding (Embedding)        (None, None, 16)          160000    \n",
            "_________________________________________________________________\n",
            "global_average_pooling1d (Gl (None, 16)                0         \n",
            "_________________________________________________________________\n",
            "dense (Dense)                (None, 16)                272       \n",
            "_________________________________________________________________\n",
            "dense_1 (Dense)              (None, 1)                 17        \n",
            "=================================================================\n",
            "Total params: 160,289\n",
            "Trainable params: 160,289\n",
            "Non-trainable params: 0\n",
            "_________________________________________________________________\n"
          ],
          "name": "stdout"
        }
      ]
    },
    {
      "metadata": {
        "id": "fhQbr3336k96",
        "colab_type": "code",
        "colab": {}
      },
      "cell_type": "code",
      "source": [
        "model.compile(optimizer=tf.train.AdamOptimizer(),\n",
        "              loss='binary_crossentropy',\n",
        "              metrics=['accuracy'])"
      ],
      "execution_count": 0,
      "outputs": []
    },
    {
      "metadata": {
        "id": "ZJuYsjOh6sSl",
        "colab_type": "code",
        "colab": {}
      },
      "cell_type": "code",
      "source": [
        "x_val = train_data[:10000]\n",
        "partial_x_train = train_data[10000:]\n",
        "\n",
        "y_val = train_labels[:10000]\n",
        "partial_y_train = train_labels[10000:]"
      ],
      "execution_count": 0,
      "outputs": []
    },
    {
      "metadata": {
        "id": "x4rgsTPE6xdq",
        "colab_type": "code",
        "colab": {
          "base_uri": "https://localhost:8080/",
          "height": 1378
        },
        "outputId": "679ebd3e-a5b9-45ad-c5ff-240bef581f23"
      },
      "cell_type": "code",
      "source": [
        "history = model.fit(partial_x_train,\n",
        "                    partial_y_train,\n",
        "                    epochs=40,\n",
        "                    batch_size=512,\n",
        "                    validation_data=(x_val, y_val),\n",
        "                    verbose=1)"
      ],
      "execution_count": 16,
      "outputs": [
        {
          "output_type": "stream",
          "text": [
            "Train on 15000 samples, validate on 10000 samples\n",
            "Epoch 1/40\n",
            "15000/15000 [==============================] - 2s 111us/step - loss: 0.6919 - acc: 0.5459 - val_loss: 0.6901 - val_acc: 0.5697\n",
            "Epoch 2/40\n",
            "15000/15000 [==============================] - 1s 65us/step - loss: 0.6865 - acc: 0.6494 - val_loss: 0.6828 - val_acc: 0.7334\n",
            "Epoch 3/40\n",
            "15000/15000 [==============================] - 1s 61us/step - loss: 0.6752 - acc: 0.7483 - val_loss: 0.6689 - val_acc: 0.7434\n",
            "Epoch 4/40\n",
            "15000/15000 [==============================] - 1s 60us/step - loss: 0.6554 - acc: 0.7700 - val_loss: 0.6467 - val_acc: 0.7572\n",
            "Epoch 5/40\n",
            "15000/15000 [==============================] - 1s 61us/step - loss: 0.6258 - acc: 0.7929 - val_loss: 0.6143 - val_acc: 0.7849\n",
            "Epoch 6/40\n",
            "15000/15000 [==============================] - 1s 62us/step - loss: 0.5855 - acc: 0.8101 - val_loss: 0.5734 - val_acc: 0.8011\n",
            "Epoch 7/40\n",
            "15000/15000 [==============================] - 1s 60us/step - loss: 0.5380 - acc: 0.8278 - val_loss: 0.5295 - val_acc: 0.8168\n",
            "Epoch 8/40\n",
            "15000/15000 [==============================] - 1s 60us/step - loss: 0.4896 - acc: 0.8432 - val_loss: 0.4869 - val_acc: 0.8302\n",
            "Epoch 9/40\n",
            "15000/15000 [==============================] - 1s 60us/step - loss: 0.4448 - acc: 0.8563 - val_loss: 0.4490 - val_acc: 0.8407\n",
            "Epoch 10/40\n",
            "15000/15000 [==============================] - 1s 60us/step - loss: 0.4047 - acc: 0.8699 - val_loss: 0.4171 - val_acc: 0.8490\n",
            "Epoch 11/40\n",
            "15000/15000 [==============================] - 1s 60us/step - loss: 0.3711 - acc: 0.8804 - val_loss: 0.3932 - val_acc: 0.8540\n",
            "Epoch 12/40\n",
            "15000/15000 [==============================] - 1s 59us/step - loss: 0.3431 - acc: 0.8867 - val_loss: 0.3701 - val_acc: 0.8620\n",
            "Epoch 13/40\n",
            "15000/15000 [==============================] - 1s 60us/step - loss: 0.3183 - acc: 0.8935 - val_loss: 0.3540 - val_acc: 0.8681\n",
            "Epoch 14/40\n",
            "15000/15000 [==============================] - 1s 60us/step - loss: 0.2978 - acc: 0.8990 - val_loss: 0.3397 - val_acc: 0.8719\n",
            "Epoch 15/40\n",
            "15000/15000 [==============================] - 1s 60us/step - loss: 0.2802 - acc: 0.9036 - val_loss: 0.3287 - val_acc: 0.8739\n",
            "Epoch 16/40\n",
            "15000/15000 [==============================] - 1s 60us/step - loss: 0.2651 - acc: 0.9069 - val_loss: 0.3198 - val_acc: 0.8763\n",
            "Epoch 17/40\n",
            "15000/15000 [==============================] - 1s 61us/step - loss: 0.2507 - acc: 0.9137 - val_loss: 0.3123 - val_acc: 0.8771\n",
            "Epoch 18/40\n",
            "15000/15000 [==============================] - 1s 61us/step - loss: 0.2382 - acc: 0.9185 - val_loss: 0.3061 - val_acc: 0.8798\n",
            "Epoch 19/40\n",
            "15000/15000 [==============================] - 1s 61us/step - loss: 0.2267 - acc: 0.9221 - val_loss: 0.3011 - val_acc: 0.8805\n",
            "Epoch 20/40\n",
            "15000/15000 [==============================] - 1s 62us/step - loss: 0.2165 - acc: 0.9247 - val_loss: 0.2971 - val_acc: 0.8816\n",
            "Epoch 21/40\n",
            "15000/15000 [==============================] - 1s 61us/step - loss: 0.2066 - acc: 0.9293 - val_loss: 0.2934 - val_acc: 0.8826\n",
            "Epoch 22/40\n",
            "15000/15000 [==============================] - 1s 60us/step - loss: 0.1975 - acc: 0.9323 - val_loss: 0.2912 - val_acc: 0.8831\n",
            "Epoch 23/40\n",
            "15000/15000 [==============================] - 1s 60us/step - loss: 0.1893 - acc: 0.9353 - val_loss: 0.2893 - val_acc: 0.8832\n",
            "Epoch 24/40\n",
            "15000/15000 [==============================] - 1s 60us/step - loss: 0.1810 - acc: 0.9405 - val_loss: 0.2871 - val_acc: 0.8848\n",
            "Epoch 25/40\n",
            "15000/15000 [==============================] - 1s 60us/step - loss: 0.1737 - acc: 0.9438 - val_loss: 0.2859 - val_acc: 0.8843\n",
            "Epoch 26/40\n",
            "15000/15000 [==============================] - 1s 60us/step - loss: 0.1665 - acc: 0.9464 - val_loss: 0.2854 - val_acc: 0.8848\n",
            "Epoch 27/40\n",
            "15000/15000 [==============================] - 1s 60us/step - loss: 0.1604 - acc: 0.9496 - val_loss: 0.2855 - val_acc: 0.8850\n",
            "Epoch 28/40\n",
            "15000/15000 [==============================] - 1s 60us/step - loss: 0.1540 - acc: 0.9521 - val_loss: 0.2849 - val_acc: 0.8856\n",
            "Epoch 29/40\n",
            "15000/15000 [==============================] - 1s 61us/step - loss: 0.1481 - acc: 0.9538 - val_loss: 0.2851 - val_acc: 0.8854\n",
            "Epoch 30/40\n",
            "15000/15000 [==============================] - 1s 59us/step - loss: 0.1429 - acc: 0.9555 - val_loss: 0.2860 - val_acc: 0.8863\n",
            "Epoch 31/40\n",
            "15000/15000 [==============================] - 1s 61us/step - loss: 0.1369 - acc: 0.9593 - val_loss: 0.2870 - val_acc: 0.8865\n",
            "Epoch 32/40\n",
            "15000/15000 [==============================] - 1s 60us/step - loss: 0.1320 - acc: 0.9610 - val_loss: 0.2884 - val_acc: 0.8867\n",
            "Epoch 33/40\n",
            "15000/15000 [==============================] - 1s 61us/step - loss: 0.1266 - acc: 0.9636 - val_loss: 0.2899 - val_acc: 0.8863\n",
            "Epoch 34/40\n",
            "15000/15000 [==============================] - 1s 61us/step - loss: 0.1221 - acc: 0.9651 - val_loss: 0.2917 - val_acc: 0.8860\n",
            "Epoch 35/40\n",
            "15000/15000 [==============================] - 1s 61us/step - loss: 0.1180 - acc: 0.9662 - val_loss: 0.2933 - val_acc: 0.8864\n",
            "Epoch 36/40\n",
            "15000/15000 [==============================] - 1s 61us/step - loss: 0.1130 - acc: 0.9688 - val_loss: 0.2959 - val_acc: 0.8853\n",
            "Epoch 37/40\n",
            "15000/15000 [==============================] - 1s 61us/step - loss: 0.1091 - acc: 0.9695 - val_loss: 0.2985 - val_acc: 0.8852\n",
            "Epoch 38/40\n",
            "15000/15000 [==============================] - 1s 61us/step - loss: 0.1057 - acc: 0.9704 - val_loss: 0.3005 - val_acc: 0.8845\n",
            "Epoch 39/40\n",
            "15000/15000 [==============================] - 1s 61us/step - loss: 0.1012 - acc: 0.9721 - val_loss: 0.3029 - val_acc: 0.8843\n",
            "Epoch 40/40\n",
            "15000/15000 [==============================] - 1s 60us/step - loss: 0.0975 - acc: 0.9735 - val_loss: 0.3059 - val_acc: 0.8835\n"
          ],
          "name": "stdout"
        }
      ]
    },
    {
      "metadata": {
        "id": "n_Fi2ueW7LxJ",
        "colab_type": "code",
        "colab": {
          "base_uri": "https://localhost:8080/",
          "height": 50
        },
        "outputId": "d4ae3515-3abd-43e0-c085-cf08830ea9f8"
      },
      "cell_type": "code",
      "source": [
        "results = model.evaluate(test_data, test_labels)\n",
        "\n",
        "print(results)"
      ],
      "execution_count": 17,
      "outputs": [
        {
          "output_type": "stream",
          "text": [
            "25000/25000 [==============================] - 1s 39us/step\n",
            "[0.32598872714996335, 0.87276]\n"
          ],
          "name": "stdout"
        }
      ]
    },
    {
      "metadata": {
        "id": "xh_9TvrA7SfR",
        "colab_type": "code",
        "colab": {
          "base_uri": "https://localhost:8080/",
          "height": 34
        },
        "outputId": "2f8c3b44-0003-4714-97da-1b5001d02028"
      },
      "cell_type": "code",
      "source": [
        "history_dict = history.history\n",
        "history_dict.keys()"
      ],
      "execution_count": 18,
      "outputs": [
        {
          "output_type": "execute_result",
          "data": {
            "text/plain": [
              "dict_keys(['val_loss', 'val_acc', 'loss', 'acc'])"
            ]
          },
          "metadata": {
            "tags": []
          },
          "execution_count": 18
        }
      ]
    },
    {
      "metadata": {
        "id": "oAs1134w7Wfg",
        "colab_type": "code",
        "colab": {
          "base_uri": "https://localhost:8080/",
          "height": 376
        },
        "outputId": "4bb610c0-bef5-4462-9bfa-3cfe9f4e57af"
      },
      "cell_type": "code",
      "source": [
        "import matplotlib.pyplot as plt\n",
        "\n",
        "acc = history.history['acc']\n",
        "val_acc = history.history['val_acc']\n",
        "loss = history.history['loss']\n",
        "val_loss = history.history['val_loss']\n",
        "\n",
        "epochs = range(1, len(acc) + 1)\n",
        "\n",
        "# \"bo\" is for \"blue dot\"\n",
        "plt.plot(epochs, loss, 'bo', label='Training loss')\n",
        "# b is for \"solid blue line\"\n",
        "plt.plot(epochs, val_loss, 'b', label='Validation loss')\n",
        "plt.title('Training and validation loss')\n",
        "plt.xlabel('Epochs')\n",
        "plt.ylabel('Loss')\n",
        "plt.legend()\n",
        "\n",
        "plt.show()"
      ],
      "execution_count": 19,
      "outputs": [
        {
          "output_type": "display_data",
          "data": {
            "image/png": "[encoded data removed]",
            "text/plain": [
              "<Figure size 576x396 with 1 Axes>"
            ]
          },
          "metadata": {
            "tags": []
          }
        }
      ]
    },
    {
      "metadata": {
        "id": "cO7HEHpi7mX3",
        "colab_type": "code",
        "colab": {
          "base_uri": "https://localhost:8080/",
          "height": 376
        },
        "outputId": "599481af-10a3-487b-9c0b-98e24f154acb"
      },
      "cell_type": "code",
      "source": [
        "plt.clf()   # clear figure\n",
        "acc_values = history_dict['acc']\n",
        "val_acc_values = history_dict['val_acc']\n",
        "\n",
        "plt.plot(epochs, acc, 'bo', label='Training acc')\n",
        "plt.plot(epochs, val_acc, 'b', label='Validation acc')\n",
        "plt.title('Training and validation accuracy')\n",
        "plt.xlabel('Epochs')\n",
        "plt.ylabel('Accuracy')\n",
        "plt.legend()\n",
        "\n",
        "plt.show()"
      ],
      "execution_count": 20,
      "outputs": [
        {
          "output_type": "display_data",
          "data": {
            "image/png": "[encoded data removed]",
            "text/plain": [
              "<Figure size 576x396 with 1 Axes>"
            ]
          },
          "metadata": {
            "tags": []
          }
        }
      ]
    }
  ]
}